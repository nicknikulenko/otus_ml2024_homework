{
 "cells": [
  {
   "cell_type": "code",
   "execution_count": null,
   "metadata": {
    "_cell_guid": "b1076dfc-b9ad-4769-8c92-a6c4dae69d19",
    "_uuid": "8f2839f25d086af736a60e9eeb907d3b93b6e0e5",
    "trusted": true
   },
   "outputs": [],
   "source": [
    "import numpy as np \n",
    "import pandas as pd \n",
    "import matplotlib.pyplot as plt\n",
    "import seaborn as sns\n",
    "\n",
    "from sklearn.metrics import confusion_matrix "
   ]
  },
  {
   "cell_type": "code",
   "execution_count": 3,
   "metadata": {
    "_cell_guid": "79c7e3d0-c299-4dcb-8224-4455121ee9b0",
    "_uuid": "d629ff2d2480ee46fbb7e2d37f6b5fab8052498a",
    "trusted": true
   },
   "outputs": [],
   "source": [
    "data = pd.read_csv('data.csv')"
   ]
  },
  {
   "cell_type": "code",
   "execution_count": 4,
   "metadata": {
    "_uuid": "5e5558aa7e42975c3cb3bb5be8fcdf63d2b8d75e",
    "trusted": true
   },
   "outputs": [
    {
     "name": "stdout",
     "output_type": "stream",
     "text": [
      "<class 'pandas.core.frame.DataFrame'>\n",
      "RangeIndex: 100 entries, 0 to 99\n",
      "Data columns (total 10 columns):\n",
      " #   Column             Non-Null Count  Dtype  \n",
      "---  ------             --------------  -----  \n",
      " 0   id                 100 non-null    int64  \n",
      " 1   diagnosis_result   100 non-null    object \n",
      " 2   radius             100 non-null    int64  \n",
      " 3   texture            100 non-null    int64  \n",
      " 4   perimeter          100 non-null    int64  \n",
      " 5   area               100 non-null    int64  \n",
      " 6   smoothness         100 non-null    float64\n",
      " 7   compactness        100 non-null    float64\n",
      " 8   symmetry           100 non-null    float64\n",
      " 9   fractal_dimension  100 non-null    float64\n",
      "dtypes: float64(4), int64(5), object(1)\n",
      "memory usage: 7.9+ KB\n"
     ]
    }
   ],
   "source": [
    "data.info()"
   ]
  },
  {
   "cell_type": "code",
   "execution_count": 5,
   "metadata": {
    "_uuid": "73f8fc7a937835b320251278256f0d26d79706b2",
    "trusted": true
   },
   "outputs": [
    {
     "data": {
      "text/html": [
       "<div>\n",
       "<style scoped>\n",
       "    .dataframe tbody tr th:only-of-type {\n",
       "        vertical-align: middle;\n",
       "    }\n",
       "\n",
       "    .dataframe tbody tr th {\n",
       "        vertical-align: top;\n",
       "    }\n",
       "\n",
       "    .dataframe thead th {\n",
       "        text-align: right;\n",
       "    }\n",
       "</style>\n",
       "<table border=\"1\" class=\"dataframe\">\n",
       "  <thead>\n",
       "    <tr style=\"text-align: right;\">\n",
       "      <th></th>\n",
       "      <th>id</th>\n",
       "      <th>diagnosis_result</th>\n",
       "      <th>radius</th>\n",
       "      <th>texture</th>\n",
       "      <th>perimeter</th>\n",
       "      <th>area</th>\n",
       "      <th>smoothness</th>\n",
       "      <th>compactness</th>\n",
       "      <th>symmetry</th>\n",
       "      <th>fractal_dimension</th>\n",
       "    </tr>\n",
       "  </thead>\n",
       "  <tbody>\n",
       "    <tr>\n",
       "      <th>0</th>\n",
       "      <td>1</td>\n",
       "      <td>M</td>\n",
       "      <td>23</td>\n",
       "      <td>12</td>\n",
       "      <td>151</td>\n",
       "      <td>954</td>\n",
       "      <td>0.143</td>\n",
       "      <td>0.278</td>\n",
       "      <td>0.242</td>\n",
       "      <td>0.079</td>\n",
       "    </tr>\n",
       "    <tr>\n",
       "      <th>1</th>\n",
       "      <td>2</td>\n",
       "      <td>B</td>\n",
       "      <td>9</td>\n",
       "      <td>13</td>\n",
       "      <td>133</td>\n",
       "      <td>1326</td>\n",
       "      <td>0.143</td>\n",
       "      <td>0.079</td>\n",
       "      <td>0.181</td>\n",
       "      <td>0.057</td>\n",
       "    </tr>\n",
       "    <tr>\n",
       "      <th>2</th>\n",
       "      <td>3</td>\n",
       "      <td>M</td>\n",
       "      <td>21</td>\n",
       "      <td>27</td>\n",
       "      <td>130</td>\n",
       "      <td>1203</td>\n",
       "      <td>0.125</td>\n",
       "      <td>0.160</td>\n",
       "      <td>0.207</td>\n",
       "      <td>0.060</td>\n",
       "    </tr>\n",
       "    <tr>\n",
       "      <th>3</th>\n",
       "      <td>4</td>\n",
       "      <td>M</td>\n",
       "      <td>14</td>\n",
       "      <td>16</td>\n",
       "      <td>78</td>\n",
       "      <td>386</td>\n",
       "      <td>0.070</td>\n",
       "      <td>0.284</td>\n",
       "      <td>0.260</td>\n",
       "      <td>0.097</td>\n",
       "    </tr>\n",
       "    <tr>\n",
       "      <th>4</th>\n",
       "      <td>5</td>\n",
       "      <td>M</td>\n",
       "      <td>9</td>\n",
       "      <td>19</td>\n",
       "      <td>135</td>\n",
       "      <td>1297</td>\n",
       "      <td>0.141</td>\n",
       "      <td>0.133</td>\n",
       "      <td>0.181</td>\n",
       "      <td>0.059</td>\n",
       "    </tr>\n",
       "    <tr>\n",
       "      <th>5</th>\n",
       "      <td>6</td>\n",
       "      <td>B</td>\n",
       "      <td>25</td>\n",
       "      <td>25</td>\n",
       "      <td>83</td>\n",
       "      <td>477</td>\n",
       "      <td>0.128</td>\n",
       "      <td>0.170</td>\n",
       "      <td>0.209</td>\n",
       "      <td>0.076</td>\n",
       "    </tr>\n",
       "    <tr>\n",
       "      <th>6</th>\n",
       "      <td>7</td>\n",
       "      <td>M</td>\n",
       "      <td>16</td>\n",
       "      <td>26</td>\n",
       "      <td>120</td>\n",
       "      <td>1040</td>\n",
       "      <td>0.095</td>\n",
       "      <td>0.109</td>\n",
       "      <td>0.179</td>\n",
       "      <td>0.057</td>\n",
       "    </tr>\n",
       "    <tr>\n",
       "      <th>7</th>\n",
       "      <td>8</td>\n",
       "      <td>M</td>\n",
       "      <td>15</td>\n",
       "      <td>18</td>\n",
       "      <td>90</td>\n",
       "      <td>578</td>\n",
       "      <td>0.119</td>\n",
       "      <td>0.165</td>\n",
       "      <td>0.220</td>\n",
       "      <td>0.075</td>\n",
       "    </tr>\n",
       "    <tr>\n",
       "      <th>8</th>\n",
       "      <td>9</td>\n",
       "      <td>M</td>\n",
       "      <td>19</td>\n",
       "      <td>24</td>\n",
       "      <td>88</td>\n",
       "      <td>520</td>\n",
       "      <td>0.127</td>\n",
       "      <td>0.193</td>\n",
       "      <td>0.235</td>\n",
       "      <td>0.074</td>\n",
       "    </tr>\n",
       "    <tr>\n",
       "      <th>9</th>\n",
       "      <td>10</td>\n",
       "      <td>M</td>\n",
       "      <td>25</td>\n",
       "      <td>11</td>\n",
       "      <td>84</td>\n",
       "      <td>476</td>\n",
       "      <td>0.119</td>\n",
       "      <td>0.240</td>\n",
       "      <td>0.203</td>\n",
       "      <td>0.082</td>\n",
       "    </tr>\n",
       "  </tbody>\n",
       "</table>\n",
       "</div>"
      ],
      "text/plain": [
       "   id diagnosis_result  radius  texture  perimeter  area  smoothness  \\\n",
       "0   1                M      23       12        151   954       0.143   \n",
       "1   2                B       9       13        133  1326       0.143   \n",
       "2   3                M      21       27        130  1203       0.125   \n",
       "3   4                M      14       16         78   386       0.070   \n",
       "4   5                M       9       19        135  1297       0.141   \n",
       "5   6                B      25       25         83   477       0.128   \n",
       "6   7                M      16       26        120  1040       0.095   \n",
       "7   8                M      15       18         90   578       0.119   \n",
       "8   9                M      19       24         88   520       0.127   \n",
       "9  10                M      25       11         84   476       0.119   \n",
       "\n",
       "   compactness  symmetry  fractal_dimension  \n",
       "0        0.278     0.242              0.079  \n",
       "1        0.079     0.181              0.057  \n",
       "2        0.160     0.207              0.060  \n",
       "3        0.284     0.260              0.097  \n",
       "4        0.133     0.181              0.059  \n",
       "5        0.170     0.209              0.076  \n",
       "6        0.109     0.179              0.057  \n",
       "7        0.165     0.220              0.075  \n",
       "8        0.193     0.235              0.074  \n",
       "9        0.240     0.203              0.082  "
      ]
     },
     "execution_count": 5,
     "metadata": {},
     "output_type": "execute_result"
    }
   ],
   "source": [
    "data.head(10)"
   ]
  },
  {
   "cell_type": "code",
   "execution_count": 6,
   "metadata": {
    "_uuid": "7f605aa194d543d468d79491735e5f66581839fd",
    "trusted": true
   },
   "outputs": [
    {
     "data": {
      "text/html": [
       "<div>\n",
       "<style scoped>\n",
       "    .dataframe tbody tr th:only-of-type {\n",
       "        vertical-align: middle;\n",
       "    }\n",
       "\n",
       "    .dataframe tbody tr th {\n",
       "        vertical-align: top;\n",
       "    }\n",
       "\n",
       "    .dataframe thead th {\n",
       "        text-align: right;\n",
       "    }\n",
       "</style>\n",
       "<table border=\"1\" class=\"dataframe\">\n",
       "  <thead>\n",
       "    <tr style=\"text-align: right;\">\n",
       "      <th></th>\n",
       "      <th>id</th>\n",
       "      <th>diagnosis_result</th>\n",
       "      <th>radius</th>\n",
       "      <th>texture</th>\n",
       "      <th>perimeter</th>\n",
       "      <th>area</th>\n",
       "      <th>smoothness</th>\n",
       "      <th>compactness</th>\n",
       "      <th>symmetry</th>\n",
       "      <th>fractal_dimension</th>\n",
       "    </tr>\n",
       "  </thead>\n",
       "  <tbody>\n",
       "    <tr>\n",
       "      <th>95</th>\n",
       "      <td>96</td>\n",
       "      <td>M</td>\n",
       "      <td>23</td>\n",
       "      <td>16</td>\n",
       "      <td>132</td>\n",
       "      <td>1264</td>\n",
       "      <td>0.091</td>\n",
       "      <td>0.131</td>\n",
       "      <td>0.210</td>\n",
       "      <td>0.056</td>\n",
       "    </tr>\n",
       "    <tr>\n",
       "      <th>96</th>\n",
       "      <td>97</td>\n",
       "      <td>B</td>\n",
       "      <td>22</td>\n",
       "      <td>14</td>\n",
       "      <td>78</td>\n",
       "      <td>451</td>\n",
       "      <td>0.105</td>\n",
       "      <td>0.071</td>\n",
       "      <td>0.190</td>\n",
       "      <td>0.066</td>\n",
       "    </tr>\n",
       "    <tr>\n",
       "      <th>97</th>\n",
       "      <td>98</td>\n",
       "      <td>B</td>\n",
       "      <td>19</td>\n",
       "      <td>27</td>\n",
       "      <td>62</td>\n",
       "      <td>295</td>\n",
       "      <td>0.102</td>\n",
       "      <td>0.053</td>\n",
       "      <td>0.135</td>\n",
       "      <td>0.069</td>\n",
       "    </tr>\n",
       "    <tr>\n",
       "      <th>98</th>\n",
       "      <td>99</td>\n",
       "      <td>B</td>\n",
       "      <td>21</td>\n",
       "      <td>24</td>\n",
       "      <td>74</td>\n",
       "      <td>413</td>\n",
       "      <td>0.090</td>\n",
       "      <td>0.075</td>\n",
       "      <td>0.162</td>\n",
       "      <td>0.066</td>\n",
       "    </tr>\n",
       "    <tr>\n",
       "      <th>99</th>\n",
       "      <td>100</td>\n",
       "      <td>M</td>\n",
       "      <td>16</td>\n",
       "      <td>27</td>\n",
       "      <td>94</td>\n",
       "      <td>643</td>\n",
       "      <td>0.098</td>\n",
       "      <td>0.114</td>\n",
       "      <td>0.188</td>\n",
       "      <td>0.064</td>\n",
       "    </tr>\n",
       "  </tbody>\n",
       "</table>\n",
       "</div>"
      ],
      "text/plain": [
       "     id diagnosis_result  radius  texture  perimeter  area  smoothness  \\\n",
       "95   96                M      23       16        132  1264       0.091   \n",
       "96   97                B      22       14         78   451       0.105   \n",
       "97   98                B      19       27         62   295       0.102   \n",
       "98   99                B      21       24         74   413       0.090   \n",
       "99  100                M      16       27         94   643       0.098   \n",
       "\n",
       "    compactness  symmetry  fractal_dimension  \n",
       "95        0.131     0.210              0.056  \n",
       "96        0.071     0.190              0.066  \n",
       "97        0.053     0.135              0.069  \n",
       "98        0.075     0.162              0.066  \n",
       "99        0.114     0.188              0.064  "
      ]
     },
     "execution_count": 6,
     "metadata": {},
     "output_type": "execute_result"
    }
   ],
   "source": [
    "data.tail()"
   ]
  },
  {
   "cell_type": "code",
   "execution_count": 7,
   "metadata": {
    "_uuid": "0dea2bf6bf39c45d21f4528fb0981c579899a63d",
    "trusted": true
   },
   "outputs": [
    {
     "data": {
      "text/html": [
       "<div>\n",
       "<style scoped>\n",
       "    .dataframe tbody tr th:only-of-type {\n",
       "        vertical-align: middle;\n",
       "    }\n",
       "\n",
       "    .dataframe tbody tr th {\n",
       "        vertical-align: top;\n",
       "    }\n",
       "\n",
       "    .dataframe thead th {\n",
       "        text-align: right;\n",
       "    }\n",
       "</style>\n",
       "<table border=\"1\" class=\"dataframe\">\n",
       "  <thead>\n",
       "    <tr style=\"text-align: right;\">\n",
       "      <th></th>\n",
       "      <th>id</th>\n",
       "      <th>radius</th>\n",
       "      <th>texture</th>\n",
       "      <th>perimeter</th>\n",
       "      <th>area</th>\n",
       "      <th>smoothness</th>\n",
       "      <th>compactness</th>\n",
       "      <th>symmetry</th>\n",
       "      <th>fractal_dimension</th>\n",
       "    </tr>\n",
       "  </thead>\n",
       "  <tbody>\n",
       "    <tr>\n",
       "      <th>count</th>\n",
       "      <td>100.000000</td>\n",
       "      <td>100.000000</td>\n",
       "      <td>100.000000</td>\n",
       "      <td>100.000000</td>\n",
       "      <td>100.000000</td>\n",
       "      <td>100.000000</td>\n",
       "      <td>100.000000</td>\n",
       "      <td>100.000000</td>\n",
       "      <td>100.000000</td>\n",
       "    </tr>\n",
       "    <tr>\n",
       "      <th>mean</th>\n",
       "      <td>50.500000</td>\n",
       "      <td>16.850000</td>\n",
       "      <td>18.230000</td>\n",
       "      <td>96.780000</td>\n",
       "      <td>702.880000</td>\n",
       "      <td>0.102730</td>\n",
       "      <td>0.126700</td>\n",
       "      <td>0.193170</td>\n",
       "      <td>0.064690</td>\n",
       "    </tr>\n",
       "    <tr>\n",
       "      <th>std</th>\n",
       "      <td>29.011492</td>\n",
       "      <td>4.879094</td>\n",
       "      <td>5.192954</td>\n",
       "      <td>23.676089</td>\n",
       "      <td>319.710895</td>\n",
       "      <td>0.014642</td>\n",
       "      <td>0.061144</td>\n",
       "      <td>0.030785</td>\n",
       "      <td>0.008151</td>\n",
       "    </tr>\n",
       "    <tr>\n",
       "      <th>min</th>\n",
       "      <td>1.000000</td>\n",
       "      <td>9.000000</td>\n",
       "      <td>11.000000</td>\n",
       "      <td>52.000000</td>\n",
       "      <td>202.000000</td>\n",
       "      <td>0.070000</td>\n",
       "      <td>0.038000</td>\n",
       "      <td>0.135000</td>\n",
       "      <td>0.053000</td>\n",
       "    </tr>\n",
       "    <tr>\n",
       "      <th>25%</th>\n",
       "      <td>25.750000</td>\n",
       "      <td>12.000000</td>\n",
       "      <td>14.000000</td>\n",
       "      <td>82.500000</td>\n",
       "      <td>476.750000</td>\n",
       "      <td>0.093500</td>\n",
       "      <td>0.080500</td>\n",
       "      <td>0.172000</td>\n",
       "      <td>0.059000</td>\n",
       "    </tr>\n",
       "    <tr>\n",
       "      <th>50%</th>\n",
       "      <td>50.500000</td>\n",
       "      <td>17.000000</td>\n",
       "      <td>17.500000</td>\n",
       "      <td>94.000000</td>\n",
       "      <td>644.000000</td>\n",
       "      <td>0.102000</td>\n",
       "      <td>0.118500</td>\n",
       "      <td>0.190000</td>\n",
       "      <td>0.063000</td>\n",
       "    </tr>\n",
       "    <tr>\n",
       "      <th>75%</th>\n",
       "      <td>75.250000</td>\n",
       "      <td>21.000000</td>\n",
       "      <td>22.250000</td>\n",
       "      <td>114.250000</td>\n",
       "      <td>917.000000</td>\n",
       "      <td>0.112000</td>\n",
       "      <td>0.157000</td>\n",
       "      <td>0.209000</td>\n",
       "      <td>0.069000</td>\n",
       "    </tr>\n",
       "    <tr>\n",
       "      <th>max</th>\n",
       "      <td>100.000000</td>\n",
       "      <td>25.000000</td>\n",
       "      <td>27.000000</td>\n",
       "      <td>172.000000</td>\n",
       "      <td>1878.000000</td>\n",
       "      <td>0.143000</td>\n",
       "      <td>0.345000</td>\n",
       "      <td>0.304000</td>\n",
       "      <td>0.097000</td>\n",
       "    </tr>\n",
       "  </tbody>\n",
       "</table>\n",
       "</div>"
      ],
      "text/plain": [
       "               id      radius     texture   perimeter         area  \\\n",
       "count  100.000000  100.000000  100.000000  100.000000   100.000000   \n",
       "mean    50.500000   16.850000   18.230000   96.780000   702.880000   \n",
       "std     29.011492    4.879094    5.192954   23.676089   319.710895   \n",
       "min      1.000000    9.000000   11.000000   52.000000   202.000000   \n",
       "25%     25.750000   12.000000   14.000000   82.500000   476.750000   \n",
       "50%     50.500000   17.000000   17.500000   94.000000   644.000000   \n",
       "75%     75.250000   21.000000   22.250000  114.250000   917.000000   \n",
       "max    100.000000   25.000000   27.000000  172.000000  1878.000000   \n",
       "\n",
       "       smoothness  compactness    symmetry  fractal_dimension  \n",
       "count  100.000000   100.000000  100.000000         100.000000  \n",
       "mean     0.102730     0.126700    0.193170           0.064690  \n",
       "std      0.014642     0.061144    0.030785           0.008151  \n",
       "min      0.070000     0.038000    0.135000           0.053000  \n",
       "25%      0.093500     0.080500    0.172000           0.059000  \n",
       "50%      0.102000     0.118500    0.190000           0.063000  \n",
       "75%      0.112000     0.157000    0.209000           0.069000  \n",
       "max      0.143000     0.345000    0.304000           0.097000  "
      ]
     },
     "execution_count": 7,
     "metadata": {},
     "output_type": "execute_result"
    }
   ],
   "source": [
    "data.describe()"
   ]
  },
  {
   "cell_type": "code",
   "execution_count": 8,
   "metadata": {
    "_uuid": "bc63d2953223deb5d2a369185f98f1235f5a4489",
    "trusted": true
   },
   "outputs": [
    {
     "data": {
      "text/plain": [
       "Index(['id', 'diagnosis_result', 'radius', 'texture', 'perimeter', 'area',\n",
       "       'smoothness', 'compactness', 'symmetry', 'fractal_dimension'],\n",
       "      dtype='object')"
      ]
     },
     "execution_count": 8,
     "metadata": {},
     "output_type": "execute_result"
    }
   ],
   "source": [
    "data.columns"
   ]
  },
  {
   "cell_type": "code",
   "execution_count": null,
   "metadata": {
    "_uuid": "7f24b49bec7a5c0498d0d1687951532eb2802928",
    "trusted": true
   },
   "outputs": [],
   "source": [
    "# Исключим поле id\n",
    "data.drop(['id'],axis=1,inplace=True)"
   ]
  },
  {
   "cell_type": "code",
   "execution_count": 10,
   "metadata": {
    "_uuid": "fea789ad3a09ca6599247903c7e15a2f8e32a253",
    "trusted": true
   },
   "outputs": [
    {
     "data": {
      "text/html": [
       "<div>\n",
       "<style scoped>\n",
       "    .dataframe tbody tr th:only-of-type {\n",
       "        vertical-align: middle;\n",
       "    }\n",
       "\n",
       "    .dataframe tbody tr th {\n",
       "        vertical-align: top;\n",
       "    }\n",
       "\n",
       "    .dataframe thead th {\n",
       "        text-align: right;\n",
       "    }\n",
       "</style>\n",
       "<table border=\"1\" class=\"dataframe\">\n",
       "  <thead>\n",
       "    <tr style=\"text-align: right;\">\n",
       "      <th></th>\n",
       "      <th>diagnosis_result</th>\n",
       "      <th>radius</th>\n",
       "      <th>texture</th>\n",
       "      <th>perimeter</th>\n",
       "      <th>area</th>\n",
       "      <th>smoothness</th>\n",
       "      <th>compactness</th>\n",
       "      <th>symmetry</th>\n",
       "      <th>fractal_dimension</th>\n",
       "    </tr>\n",
       "  </thead>\n",
       "  <tbody>\n",
       "    <tr>\n",
       "      <th>0</th>\n",
       "      <td>M</td>\n",
       "      <td>23</td>\n",
       "      <td>12</td>\n",
       "      <td>151</td>\n",
       "      <td>954</td>\n",
       "      <td>0.143</td>\n",
       "      <td>0.278</td>\n",
       "      <td>0.242</td>\n",
       "      <td>0.079</td>\n",
       "    </tr>\n",
       "    <tr>\n",
       "      <th>1</th>\n",
       "      <td>B</td>\n",
       "      <td>9</td>\n",
       "      <td>13</td>\n",
       "      <td>133</td>\n",
       "      <td>1326</td>\n",
       "      <td>0.143</td>\n",
       "      <td>0.079</td>\n",
       "      <td>0.181</td>\n",
       "      <td>0.057</td>\n",
       "    </tr>\n",
       "    <tr>\n",
       "      <th>2</th>\n",
       "      <td>M</td>\n",
       "      <td>21</td>\n",
       "      <td>27</td>\n",
       "      <td>130</td>\n",
       "      <td>1203</td>\n",
       "      <td>0.125</td>\n",
       "      <td>0.160</td>\n",
       "      <td>0.207</td>\n",
       "      <td>0.060</td>\n",
       "    </tr>\n",
       "    <tr>\n",
       "      <th>3</th>\n",
       "      <td>M</td>\n",
       "      <td>14</td>\n",
       "      <td>16</td>\n",
       "      <td>78</td>\n",
       "      <td>386</td>\n",
       "      <td>0.070</td>\n",
       "      <td>0.284</td>\n",
       "      <td>0.260</td>\n",
       "      <td>0.097</td>\n",
       "    </tr>\n",
       "    <tr>\n",
       "      <th>4</th>\n",
       "      <td>M</td>\n",
       "      <td>9</td>\n",
       "      <td>19</td>\n",
       "      <td>135</td>\n",
       "      <td>1297</td>\n",
       "      <td>0.141</td>\n",
       "      <td>0.133</td>\n",
       "      <td>0.181</td>\n",
       "      <td>0.059</td>\n",
       "    </tr>\n",
       "  </tbody>\n",
       "</table>\n",
       "</div>"
      ],
      "text/plain": [
       "  diagnosis_result  radius  texture  perimeter  area  smoothness  compactness  \\\n",
       "0                M      23       12        151   954       0.143        0.278   \n",
       "1                B       9       13        133  1326       0.143        0.079   \n",
       "2                M      21       27        130  1203       0.125        0.160   \n",
       "3                M      14       16         78   386       0.070        0.284   \n",
       "4                M       9       19        135  1297       0.141        0.133   \n",
       "\n",
       "   symmetry  fractal_dimension  \n",
       "0     0.242              0.079  \n",
       "1     0.181              0.057  \n",
       "2     0.207              0.060  \n",
       "3     0.260              0.097  \n",
       "4     0.181              0.059  "
      ]
     },
     "execution_count": 10,
     "metadata": {},
     "output_type": "execute_result"
    }
   ],
   "source": [
    "data.head()"
   ]
  },
  {
   "cell_type": "code",
   "execution_count": null,
   "metadata": {
    "_uuid": "f05f47ec1176fe84f7651fbd472dc81dc66143a1",
    "trusted": true
   },
   "outputs": [],
   "source": [
    "# Земеним значения поля диагноз, численными значениями, для последующей обработки.\n",
    "data.diagnosis_result = [1 if each == 'M' else 0 for each in data.diagnosis_result]"
   ]
  },
  {
   "cell_type": "code",
   "execution_count": null,
   "metadata": {
    "_uuid": "87b9aaf92ea781bb739f752dfc50a509ce1c013b",
    "trusted": true
   },
   "outputs": [
    {
     "data": {
      "text/plain": [
       "diagnosis_result\n",
       "1    62\n",
       "0    38\n",
       "Name: count, dtype: int64"
      ]
     },
     "execution_count": 12,
     "metadata": {},
     "output_type": "execute_result"
    }
   ],
   "source": [
    "data.diagnosis_result.value_counts()"
   ]
  },
  {
   "cell_type": "code",
   "execution_count": null,
   "metadata": {
    "_uuid": "21161b74913379540eba9a143ba7529200e296bb",
    "trusted": true
   },
   "outputs": [],
   "source": [
    "y = data.diagnosis_result.values\n",
    "x_data = data.drop(['diagnosis_result'],axis=1)"
   ]
  },
  {
   "cell_type": "code",
   "execution_count": null,
   "metadata": {
    "_uuid": "3d040dc3e591b2a30996e614f709980719506e9e",
    "trusted": true
   },
   "outputs": [
    {
     "data": {
      "text/plain": [
       "array([1, 0, 1, 1, 1, 0, 1, 1, 1, 1, 1, 1, 0, 1, 1, 1, 1, 1, 1, 0, 0, 0,\n",
       "       1, 1, 1, 1, 1, 1, 1, 1, 1, 1, 1, 1, 1, 1, 1, 0, 1, 1, 1, 1, 1, 1,\n",
       "       1, 1, 0, 1, 0, 0, 0, 0, 0, 1, 1, 0, 1, 1, 0, 0, 0, 0, 1, 0, 1, 1,\n",
       "       0, 0, 0, 0, 1, 0, 1, 1, 0, 1, 0, 1, 1, 0, 0, 0, 1, 1, 0, 1, 1, 1,\n",
       "       0, 0, 0, 1, 0, 0, 1, 1, 0, 0, 0, 1], dtype=int64)"
      ]
     },
     "execution_count": 14,
     "metadata": {},
     "output_type": "execute_result"
    }
   ],
   "source": [
    "y"
   ]
  },
  {
   "cell_type": "code",
   "execution_count": 15,
   "metadata": {
    "_uuid": "17f12e91c50682da8a14a5448517586cfd94f903",
    "trusted": true
   },
   "outputs": [
    {
     "data": {
      "text/html": [
       "<div>\n",
       "<style scoped>\n",
       "    .dataframe tbody tr th:only-of-type {\n",
       "        vertical-align: middle;\n",
       "    }\n",
       "\n",
       "    .dataframe tbody tr th {\n",
       "        vertical-align: top;\n",
       "    }\n",
       "\n",
       "    .dataframe thead th {\n",
       "        text-align: right;\n",
       "    }\n",
       "</style>\n",
       "<table border=\"1\" class=\"dataframe\">\n",
       "  <thead>\n",
       "    <tr style=\"text-align: right;\">\n",
       "      <th></th>\n",
       "      <th>radius</th>\n",
       "      <th>texture</th>\n",
       "      <th>perimeter</th>\n",
       "      <th>area</th>\n",
       "      <th>smoothness</th>\n",
       "      <th>compactness</th>\n",
       "      <th>symmetry</th>\n",
       "      <th>fractal_dimension</th>\n",
       "    </tr>\n",
       "  </thead>\n",
       "  <tbody>\n",
       "    <tr>\n",
       "      <th>0</th>\n",
       "      <td>23</td>\n",
       "      <td>12</td>\n",
       "      <td>151</td>\n",
       "      <td>954</td>\n",
       "      <td>0.143</td>\n",
       "      <td>0.278</td>\n",
       "      <td>0.242</td>\n",
       "      <td>0.079</td>\n",
       "    </tr>\n",
       "    <tr>\n",
       "      <th>1</th>\n",
       "      <td>9</td>\n",
       "      <td>13</td>\n",
       "      <td>133</td>\n",
       "      <td>1326</td>\n",
       "      <td>0.143</td>\n",
       "      <td>0.079</td>\n",
       "      <td>0.181</td>\n",
       "      <td>0.057</td>\n",
       "    </tr>\n",
       "    <tr>\n",
       "      <th>2</th>\n",
       "      <td>21</td>\n",
       "      <td>27</td>\n",
       "      <td>130</td>\n",
       "      <td>1203</td>\n",
       "      <td>0.125</td>\n",
       "      <td>0.160</td>\n",
       "      <td>0.207</td>\n",
       "      <td>0.060</td>\n",
       "    </tr>\n",
       "    <tr>\n",
       "      <th>3</th>\n",
       "      <td>14</td>\n",
       "      <td>16</td>\n",
       "      <td>78</td>\n",
       "      <td>386</td>\n",
       "      <td>0.070</td>\n",
       "      <td>0.284</td>\n",
       "      <td>0.260</td>\n",
       "      <td>0.097</td>\n",
       "    </tr>\n",
       "    <tr>\n",
       "      <th>4</th>\n",
       "      <td>9</td>\n",
       "      <td>19</td>\n",
       "      <td>135</td>\n",
       "      <td>1297</td>\n",
       "      <td>0.141</td>\n",
       "      <td>0.133</td>\n",
       "      <td>0.181</td>\n",
       "      <td>0.059</td>\n",
       "    </tr>\n",
       "  </tbody>\n",
       "</table>\n",
       "</div>"
      ],
      "text/plain": [
       "   radius  texture  perimeter  area  smoothness  compactness  symmetry  \\\n",
       "0      23       12        151   954       0.143        0.278     0.242   \n",
       "1       9       13        133  1326       0.143        0.079     0.181   \n",
       "2      21       27        130  1203       0.125        0.160     0.207   \n",
       "3      14       16         78   386       0.070        0.284     0.260   \n",
       "4       9       19        135  1297       0.141        0.133     0.181   \n",
       "\n",
       "   fractal_dimension  \n",
       "0              0.079  \n",
       "1              0.057  \n",
       "2              0.060  \n",
       "3              0.097  \n",
       "4              0.059  "
      ]
     },
     "execution_count": 15,
     "metadata": {},
     "output_type": "execute_result"
    }
   ],
   "source": [
    "x_data.head()"
   ]
  },
  {
   "cell_type": "code",
   "execution_count": null,
   "metadata": {
    "_uuid": "732d8ab954f68af7b0d89eec4fa6789dcdd2d8e6",
    "trusted": true
   },
   "outputs": [],
   "source": [
    "# Проведем нормализацию значений переменных\n",
    "from sklearn.preprocessing import MinMaxScaler\n",
    "scaler = MinMaxScaler(feature_range=(0,1))\n",
    "x = scaler.fit_transform(x_data)"
   ]
  },
  {
   "cell_type": "code",
   "execution_count": 17,
   "metadata": {
    "_uuid": "76764d713cb7aa2c9bd0310d471b539f455fe4d5",
    "trusted": true
   },
   "outputs": [
    {
     "data": {
      "text/plain": [
       "array([[0.875     , 0.0625    , 0.825     , 0.44868735, 1.        ,\n",
       "        0.78175896, 0.63313609, 0.59090909],\n",
       "       [0.        , 0.125     , 0.675     , 0.67064439, 1.        ,\n",
       "        0.13355049, 0.27218935, 0.09090909],\n",
       "       [0.75      , 1.        , 0.65      , 0.59725537, 0.75342466,\n",
       "        0.39739414, 0.4260355 , 0.15909091],\n",
       "       [0.3125    , 0.3125    , 0.21666667, 0.1097852 , 0.        ,\n",
       "        0.80130293, 0.73964497, 1.        ],\n",
       "       [0.        , 0.5       , 0.69166667, 0.65334129, 0.97260274,\n",
       "        0.30944625, 0.27218935, 0.13636364],\n",
       "       [1.        , 0.875     , 0.25833333, 0.16408115, 0.79452055,\n",
       "        0.42996743, 0.43786982, 0.52272727],\n",
       "       [0.4375    , 0.9375    , 0.56666667, 0.5       , 0.34246575,\n",
       "        0.23127036, 0.26035503, 0.09090909],\n",
       "       [0.375     , 0.4375    , 0.31666667, 0.22434368, 0.67123288,\n",
       "        0.41368078, 0.50295858, 0.5       ],\n",
       "       [0.625     , 0.8125    , 0.3       , 0.18973747, 0.78082192,\n",
       "        0.50488599, 0.59171598, 0.47727273],\n",
       "       [1.        , 0.        , 0.26666667, 0.16348449, 0.67123288,\n",
       "        0.65798046, 0.40236686, 0.65909091],\n",
       "       [0.9375    , 0.625     , 0.425     , 0.35560859, 0.16438356,\n",
       "        0.09446254, 0.10650888, 0.09090909],\n",
       "       [0.5       , 0.25      , 0.43333333, 0.34546539, 0.36986301,\n",
       "        0.29641694, 0.28994083, 0.18181818],\n",
       "       [0.3125    , 0.25      , 0.66666667, 0.54952267, 0.36986301,\n",
       "        0.67752443, 0.62130178, 0.56818182],\n",
       "       [0.1875    , 0.6875    , 0.43333333, 0.34665871, 0.19178082,\n",
       "        0.2019544 , 0.29585799, 0.        ],\n",
       "       [0.1875    , 0.125     , 0.35      , 0.22434368, 0.5890411 ,\n",
       "        0.62214984, 0.4260355 , 0.54545455],\n",
       "       [0.8125    , 0.5       , 0.375     , 0.27267303, 0.60273973,\n",
       "        0.39739414, 0.56213018, 0.40909091],\n",
       "       [0.0625    , 0.3125    , 0.35833333, 0.28818616, 0.39726027,\n",
       "        0.11074919, 0.14201183, 0.13636364],\n",
       "       [0.375     , 0.1875    , 0.46666667, 0.35620525, 0.64383562,\n",
       "        0.53420195, 0.47928994, 0.47727273],\n",
       "       [0.6875    , 0.1875    , 0.65      , 0.63126492, 0.38356164,\n",
       "        0.21172638, 0.13609467, 0.02272727],\n",
       "       [0.5       , 0.        , 0.29166667, 0.21718377, 0.38356164,\n",
       "        0.14006515, 0.31952663, 0.11363636],\n",
       "       [0.4375    , 0.1875    , 0.28333333, 0.18973747, 0.52054795,\n",
       "        0.28990228, 0.36686391, 0.34090909],\n",
       "       [0.5       , 0.8125    , 0.06666667, 0.04295943, 0.43835616,\n",
       "        0.08794788, 0.27810651, 0.36363636],\n",
       "       [0.6875    , 1.        , 0.425     , 0.29952267, 0.50684932,\n",
       "        0.5732899 , 0.69230769, 0.38636364],\n",
       "       [0.625     , 0.0625    , 0.70833333, 0.71718377, 0.32876712,\n",
       "        0.20846906, 0.24852071, 0.        ],\n",
       "       [0.        , 0.125     , 0.48333333, 0.41945107, 0.57534247,\n",
       "        0.35179153, 0.38461538, 0.22727273],\n",
       "       [0.625     , 1.        , 0.53333333, 0.42422434, 0.67123288,\n",
       "        0.61889251, 1.        , 0.47727273],\n",
       "       [0.0625    , 0.8125    , 0.375     , 0.26431981, 0.47945205,\n",
       "        0.48534202, 0.53254438, 0.36363636],\n",
       "       [0.4375    , 0.8125    , 0.58333333, 0.53221957, 0.32876712,\n",
       "        0.2247557 , 0.20710059, 0.09090909],\n",
       "       [0.375     , 0.25      , 0.41666667, 0.31622912, 0.52054795,\n",
       "        0.42996743, 0.34319527, 0.27272727],\n",
       "       [0.125     , 0.3125    , 0.525     , 0.44928401, 0.38356164,\n",
       "        0.25407166, 0.23076923, 0.18181818],\n",
       "       [0.125     , 0.6875    , 0.60833333, 0.52863962, 0.49315068,\n",
       "        0.49185668, 0.49112426, 0.20454545],\n",
       "       [0.875     , 0.9375    , 0.21666667, 0.14260143, 0.56164384,\n",
       "        0.3713355 , 0.56213018, 0.56818182],\n",
       "       [0.6875    , 0.4375    , 0.50833333, 0.41587112, 0.68493151,\n",
       "        0.36482085, 0.53254438, 0.25      ],\n",
       "       [0.125     , 0.625     , 0.63333333, 0.57279236, 0.32876712,\n",
       "        0.43648208, 0.29585799, 0.22727273],\n",
       "       [0.4375    , 0.75      , 0.45833333, 0.36097852, 0.46575342,\n",
       "        0.38436482, 0.38461538, 0.27272727],\n",
       "       [0.0625    , 0.125     , 0.48333333, 0.39856802, 0.35616438,\n",
       "        0.31270358, 0.32544379, 0.09090909],\n",
       "       [0.5625    , 0.0625    , 0.35      , 0.2571599 , 0.38356164,\n",
       "        0.23452769, 0.31952663, 0.18181818],\n",
       "       [0.75      , 0.        , 0.25833333, 0.19212411, 0.2739726 ,\n",
       "        0.        , 0.07100592, 0.13636364],\n",
       "       [0.125     , 0.25      , 0.36666667, 0.29653938, 0.32876712,\n",
       "        0.04234528, 0.13017751, 0.04545455],\n",
       "       [0.0625    , 0.1875    , 0.3       , 0.21300716, 0.43835616,\n",
       "        0.28664495, 0.21893491, 0.25      ],\n",
       "       [0.9375    , 0.3125    , 0.28333333, 0.21539379, 0.16438356,\n",
       "        0.07166124, 0.25443787, 0.06818182],\n",
       "       [0.625     , 1.        , 0.16666667, 0.10083532, 0.7260274 ,\n",
       "        0.27361564, 0.32544379, 0.36363636],\n",
       "       [0.125     , 0.        , 0.63333333, 0.53818616, 0.28767123,\n",
       "        0.58957655, 0.56804734, 0.22727273],\n",
       "       [0.375     , 0.625     , 0.29166667, 0.20465394, 0.46575342,\n",
       "        0.34527687, 0.36686391, 0.34090909],\n",
       "       [0.0625    , 0.25      , 0.275     , 0.19689737, 0.36986301,\n",
       "        0.21824104, 0.23668639, 0.20454545],\n",
       "       [0.5625    , 0.        , 0.6       , 0.52147971, 0.54794521,\n",
       "        0.4267101 , 0.33136095, 0.15909091],\n",
       "       [0.8125    , 0.0625    , 0.        , 0.        , 0.21917808,\n",
       "        0.06840391, 0.24852071, 0.27272727],\n",
       "       [0.6875    , 0.1875    , 0.28333333, 0.19868735, 0.63013699,\n",
       "        0.27687296, 0.46153846, 0.34090909],\n",
       "       [0.6875    , 0.625     , 0.21666667, 0.1473747 , 0.45205479,\n",
       "        0.17263844, 0.19526627, 0.15909091],\n",
       "       [1.        , 0.        , 0.29166667, 0.21420048, 0.24657534,\n",
       "        0.12703583, 0.27218935, 0.09090909],\n",
       "       [0.625     , 0.875     , 0.19166667, 0.13484487, 0.21917808,\n",
       "        0.03908795, 0.0887574 , 0.13636364],\n",
       "       [0.625     , 0.6875    , 0.29166667, 0.22076372, 0.09589041,\n",
       "        0.07491857, 0.        , 0.15909091],\n",
       "       [1.        , 0.25      , 0.2       , 0.14081146, 0.17808219,\n",
       "        0.03257329, 0.30769231, 0.18181818],\n",
       "       [0.3125    , 0.9375    , 0.56666667, 0.49582339, 0.61643836,\n",
       "        0.36156352, 0.43786982, 0.22727273],\n",
       "       [0.5625    , 0.875     , 0.375     , 0.3048926 , 0.28767123,\n",
       "        0.10749186, 0.15976331, 0.09090909],\n",
       "       [0.5625    , 0.125     , 0.175     , 0.12350835, 0.34246575,\n",
       "        0.05537459, 0.33727811, 0.13636364],\n",
       "       [0.0625    , 0.5       , 0.61666667, 0.56682578, 0.47945205,\n",
       "        0.28990228, 0.33727811, 0.15909091],\n",
       "       [0.5       , 0.5625    , 0.36666667, 0.27147971, 0.60273973,\n",
       "        0.32247557, 0.40236686, 0.34090909],\n",
       "       [0.8125    , 0.25      , 0.25833333, 0.19391408, 0.15068493,\n",
       "        0.        , 0.27810651, 0.04545455],\n",
       "       [0.875     , 0.9375    , 0.01666667, 0.01372315, 0.38356164,\n",
       "        0.04885993, 0.19526627, 0.43181818],\n",
       "       [0.375     , 0.4375    , 0.10833333, 0.06563246, 0.5890411 ,\n",
       "        0.14006515, 0.82248521, 0.38636364],\n",
       "       [1.        , 0.25      , 0.025     , 0.01193317, 0.73972603,\n",
       "        0.16938111, 0.28402367, 0.34090909],\n",
       "       [0.1875    , 0.6875    , 0.36666667, 0.26491647, 0.47945205,\n",
       "        0.53094463, 0.35502959, 0.45454545],\n",
       "       [0.9375    , 0.375     , 0.05833333, 0.03520286, 0.09589041,\n",
       "        0.16286645, 0.58579882, 0.38636364],\n",
       "       [0.4375    , 0.5       , 0.25833333, 0.17720764, 0.57534247,\n",
       "        0.28664495, 0.33136095, 0.29545455],\n",
       "       [0.125     , 0.625     , 0.375     , 0.27804296, 0.64383562,\n",
       "        0.35830619, 0.35502959, 0.31818182],\n",
       "       [0.1875    , 0.125     , 0.06666667, 0.03997613, 0.46575342,\n",
       "        0.13029316, 0.21893491, 0.36363636],\n",
       "       [0.5625    , 0.0625    , 0.16666667, 0.11455847, 0.15068493,\n",
       "        0.02931596, 0.10059172, 0.09090909],\n",
       "       [0.4375    , 0.375     , 0.05833333, 0.02923628, 0.50684932,\n",
       "        0.33550489, 0.44970414, 0.61363636],\n",
       "       [0.5       , 0.625     , 0.24166667, 0.17959427, 0.38356164,\n",
       "        0.04560261, 0.14201183, 0.09090909],\n",
       "       [0.75      , 0.4375    , 0.6       , 0.55369928, 0.2739726 ,\n",
       "        0.21172638, 0.13609467, 0.04545455],\n",
       "       [0.        , 0.9375    , 0.05833333, 0.02505967, 0.38356164,\n",
       "        0.37459283, 0.32544379, 0.84090909],\n",
       "       [0.75      , 0.0625    , 0.51666667, 0.43377088, 0.50684932,\n",
       "        0.4723127 , 0.34319527, 0.27272727],\n",
       "       [0.8125    , 0.875     , 0.31666667, 0.22792363, 0.42465753,\n",
       "        0.29315961, 0.18343195, 0.29545455],\n",
       "       [0.5625    , 0.125     , 0.225     , 0.16050119, 0.30136986,\n",
       "        0.09771987, 0.21893491, 0.13636364],\n",
       "       [0.75      , 0.4375    , 0.43333333, 0.36754177, 0.30136986,\n",
       "        0.14983713, 0.26627219, 0.02272727],\n",
       "       [0.0625    , 0.375     , 0.3       , 0.21300716, 0.80821918,\n",
       "        0.21824104, 0.62130178, 0.29545455],\n",
       "       [0.125     , 0.625     , 0.56666667, 0.4797136 , 0.50684932,\n",
       "        0.57654723, 0.47337278, 0.31818182],\n",
       "       [0.4375    , 0.4375    , 0.76666667, 0.62231504, 0.80821918,\n",
       "        1.        , 0.92307692, 0.63636364],\n",
       "       [0.8125    , 0.3125    , 0.25833333, 0.18138425, 0.39726027,\n",
       "        0.18566775, 0.21893491, 0.15909091],\n",
       "       [0.0625    , 0.4375    , 0.18333333, 0.11933174, 0.54794521,\n",
       "        0.18241042, 0.28994083, 0.38636364],\n",
       "       [0.5       , 0.625     , 0.28333333, 0.18973747, 0.52054795,\n",
       "        0.37785016, 0.34911243, 0.36363636],\n",
       "       [0.0625    , 0.25      , 1.        , 1.        , 0.49315068,\n",
       "        0.74592834, 0.28402367, 0.34090909],\n",
       "       [0.6875    , 0.1875    , 0.64166667, 0.5548926 , 0.71232877,\n",
       "        0.45928339, 0.16568047, 0.43181818],\n",
       "       [1.        , 0.625     , 0.20833333, 0.14379475, 0.36986301,\n",
       "        0.11074919, 0.43195266, 0.15909091],\n",
       "       [0.3125    , 0.125     , 0.575     , 0.52088305, 0.39726027,\n",
       "        0.21824104, 0.46153846, 0.15909091],\n",
       "       [0.625     , 0.9375    , 0.35      , 0.26610979, 0.32876712,\n",
       "        0.19869707, 0.43195266, 0.06818182],\n",
       "       [0.625     , 0.        , 0.58333333, 0.52147971, 0.2739726 ,\n",
       "        0.27035831, 0.35502959, 0.06818182],\n",
       "       [0.125     , 0.        , 0.23333333, 0.1575179 , 0.24657534,\n",
       "        0.18241042, 0.34319527, 0.25      ],\n",
       "       [0.1875    , 0.75      , 0.36666667, 0.26849642, 0.5890411 ,\n",
       "        0.31270358, 0.4556213 , 0.22727273],\n",
       "       [0.875     , 1.        , 0.35833333, 0.27505967, 0.2739726 ,\n",
       "        0.15635179, 0.20118343, 0.13636364],\n",
       "       [0.0625    , 0.0625    , 0.4       , 0.31384248, 0.30136986,\n",
       "        0.21498371, 0.21893491, 0.18181818],\n",
       "       [0.3125    , 0.1875    , 0.275     , 0.20883055, 0.05479452,\n",
       "        0.04234528, 0.02366864, 0.        ],\n",
       "       [0.0625    , 0.375     , 0.29166667, 0.21062053, 0.43835616,\n",
       "        0.14332248, 0.17159763, 0.09090909],\n",
       "       [0.8125    , 0.9375    , 0.4       , 0.30071599, 0.46575342,\n",
       "        0.38110749, 0.30177515, 0.22727273],\n",
       "       [0.875     , 0.3125    , 0.66666667, 0.63365155, 0.28767123,\n",
       "        0.3029316 , 0.44378698, 0.06818182],\n",
       "       [0.8125    , 0.1875    , 0.21666667, 0.14856802, 0.47945205,\n",
       "        0.10749186, 0.32544379, 0.29545455],\n",
       "       [0.625     , 1.        , 0.08333333, 0.05548926, 0.43835616,\n",
       "        0.04885993, 0.        , 0.36363636],\n",
       "       [0.75      , 0.8125    , 0.18333333, 0.12589499, 0.2739726 ,\n",
       "        0.12052117, 0.15976331, 0.29545455],\n",
       "       [0.4375    , 1.        , 0.35      , 0.26312649, 0.38356164,\n",
       "        0.247557  , 0.31360947, 0.25      ]])"
      ]
     },
     "execution_count": 17,
     "metadata": {},
     "output_type": "execute_result"
    }
   ],
   "source": [
    "x"
   ]
  },
  {
   "cell_type": "code",
   "execution_count": null,
   "metadata": {
    "_uuid": "63a63a87d3ce57ae5eba95acacca1b5be355b7f2",
    "trusted": true
   },
   "outputs": [],
   "source": [
    "# Разделим набор данных для тестирования и обучения.\n",
    "from sklearn.model_selection import train_test_split\n",
    "x_train, x_test, y_train, y_test = train_test_split(x,y,test_size=0.2,random_state=42)\n",
    "# Создадим переменные для хранения результатов.\n",
    "method_names=[]\n",
    "method_scores=[]"
   ]
  },
  {
   "cell_type": "code",
   "execution_count": null,
   "metadata": {
    "_uuid": "753ff7cdc84f6d495b67a5539f04ea8937e5d780",
    "trusted": true
   },
   "outputs": [
    {
     "data": {
      "text/plain": [
       "array([[0.5625    , 0.125     , 0.175     , 0.12350835, 0.34246575,\n",
       "        0.05537459, 0.33727811, 0.13636364],\n",
       "       [0.125     , 0.        , 0.23333333, 0.1575179 , 0.24657534,\n",
       "        0.18241042, 0.34319527, 0.25      ],\n",
       "       [0.0625    , 0.8125    , 0.375     , 0.26431981, 0.47945205,\n",
       "        0.48534202, 0.53254438, 0.36363636],\n",
       "       [0.125     , 0.        , 0.63333333, 0.53818616, 0.28767123,\n",
       "        0.58957655, 0.56804734, 0.22727273],\n",
       "       [0.5       , 0.625     , 0.24166667, 0.17959427, 0.38356164,\n",
       "        0.04560261, 0.14201183, 0.09090909],\n",
       "       [0.8125    , 0.5       , 0.375     , 0.27267303, 0.60273973,\n",
       "        0.39739414, 0.56213018, 0.40909091],\n",
       "       [0.9375    , 0.3125    , 0.28333333, 0.21539379, 0.16438356,\n",
       "        0.07166124, 0.25443787, 0.06818182],\n",
       "       [0.8125    , 0.1875    , 0.21666667, 0.14856802, 0.47945205,\n",
       "        0.10749186, 0.32544379, 0.29545455],\n",
       "       [1.        , 0.        , 0.26666667, 0.16348449, 0.67123288,\n",
       "        0.65798046, 0.40236686, 0.65909091],\n",
       "       [0.75      , 0.0625    , 0.51666667, 0.43377088, 0.50684932,\n",
       "        0.4723127 , 0.34319527, 0.27272727],\n",
       "       [0.5       , 0.25      , 0.43333333, 0.34546539, 0.36986301,\n",
       "        0.29641694, 0.28994083, 0.18181818],\n",
       "       [0.6875    , 0.1875    , 0.28333333, 0.19868735, 0.63013699,\n",
       "        0.27687296, 0.46153846, 0.34090909],\n",
       "       [0.3125    , 0.125     , 0.575     , 0.52088305, 0.39726027,\n",
       "        0.21824104, 0.46153846, 0.15909091],\n",
       "       [0.375     , 0.25      , 0.41666667, 0.31622912, 0.52054795,\n",
       "        0.42996743, 0.34319527, 0.27272727],\n",
       "       [0.0625    , 0.375     , 0.29166667, 0.21062053, 0.43835616,\n",
       "        0.14332248, 0.17159763, 0.09090909],\n",
       "       [1.        , 0.875     , 0.25833333, 0.16408115, 0.79452055,\n",
       "        0.42996743, 0.43786982, 0.52272727],\n",
       "       [0.1875    , 0.125     , 0.06666667, 0.03997613, 0.46575342,\n",
       "        0.13029316, 0.21893491, 0.36363636],\n",
       "       [0.125     , 0.625     , 0.375     , 0.27804296, 0.64383562,\n",
       "        0.35830619, 0.35502959, 0.31818182],\n",
       "       [0.0625    , 0.125     , 0.48333333, 0.39856802, 0.35616438,\n",
       "        0.31270358, 0.32544379, 0.09090909],\n",
       "       [0.0625    , 0.3125    , 0.35833333, 0.28818616, 0.39726027,\n",
       "        0.11074919, 0.14201183, 0.13636364],\n",
       "       [1.        , 0.        , 0.29166667, 0.21420048, 0.24657534,\n",
       "        0.12703583, 0.27218935, 0.09090909],\n",
       "       [0.4375    , 0.75      , 0.45833333, 0.36097852, 0.46575342,\n",
       "        0.38436482, 0.38461538, 0.27272727],\n",
       "       [0.375     , 0.4375    , 0.31666667, 0.22434368, 0.67123288,\n",
       "        0.41368078, 0.50295858, 0.5       ],\n",
       "       [0.875     , 0.3125    , 0.66666667, 0.63365155, 0.28767123,\n",
       "        0.3029316 , 0.44378698, 0.06818182],\n",
       "       [0.4375    , 0.8125    , 0.58333333, 0.53221957, 0.32876712,\n",
       "        0.2247557 , 0.20710059, 0.09090909],\n",
       "       [0.5       , 0.        , 0.29166667, 0.21718377, 0.38356164,\n",
       "        0.14006515, 0.31952663, 0.11363636],\n",
       "       [0.5       , 0.625     , 0.28333333, 0.18973747, 0.52054795,\n",
       "        0.37785016, 0.34911243, 0.36363636],\n",
       "       [0.625     , 1.        , 0.53333333, 0.42422434, 0.67123288,\n",
       "        0.61889251, 1.        , 0.47727273],\n",
       "       [0.1875    , 0.6875    , 0.36666667, 0.26491647, 0.47945205,\n",
       "        0.53094463, 0.35502959, 0.45454545],\n",
       "       [0.1875    , 0.6875    , 0.43333333, 0.34665871, 0.19178082,\n",
       "        0.2019544 , 0.29585799, 0.        ],\n",
       "       [0.        , 0.125     , 0.48333333, 0.41945107, 0.57534247,\n",
       "        0.35179153, 0.38461538, 0.22727273],\n",
       "       [0.3125    , 0.3125    , 0.21666667, 0.1097852 , 0.        ,\n",
       "        0.80130293, 0.73964497, 1.        ],\n",
       "       [0.375     , 0.1875    , 0.46666667, 0.35620525, 0.64383562,\n",
       "        0.53420195, 0.47928994, 0.47727273],\n",
       "       [0.125     , 0.25      , 0.36666667, 0.29653938, 0.32876712,\n",
       "        0.04234528, 0.13017751, 0.04545455],\n",
       "       [0.625     , 0.8125    , 0.3       , 0.18973747, 0.78082192,\n",
       "        0.50488599, 0.59171598, 0.47727273],\n",
       "       [0.4375    , 0.4375    , 0.76666667, 0.62231504, 0.80821918,\n",
       "        1.        , 0.92307692, 0.63636364],\n",
       "       [0.4375    , 0.9375    , 0.56666667, 0.5       , 0.34246575,\n",
       "        0.23127036, 0.26035503, 0.09090909],\n",
       "       [0.4375    , 0.5       , 0.25833333, 0.17720764, 0.57534247,\n",
       "        0.28664495, 0.33136095, 0.29545455],\n",
       "       [0.5625    , 0.0625    , 0.35      , 0.2571599 , 0.38356164,\n",
       "        0.23452769, 0.31952663, 0.18181818],\n",
       "       [0.1875    , 0.75      , 0.36666667, 0.26849642, 0.5890411 ,\n",
       "        0.31270358, 0.4556213 , 0.22727273],\n",
       "       [0.0625    , 0.5       , 0.61666667, 0.56682578, 0.47945205,\n",
       "        0.28990228, 0.33727811, 0.15909091],\n",
       "       [0.4375    , 1.        , 0.35      , 0.26312649, 0.38356164,\n",
       "        0.247557  , 0.31360947, 0.25      ],\n",
       "       [0.5625    , 0.875     , 0.375     , 0.3048926 , 0.28767123,\n",
       "        0.10749186, 0.15976331, 0.09090909],\n",
       "       [0.375     , 0.625     , 0.29166667, 0.20465394, 0.46575342,\n",
       "        0.34527687, 0.36686391, 0.34090909],\n",
       "       [0.625     , 0.875     , 0.19166667, 0.13484487, 0.21917808,\n",
       "        0.03908795, 0.0887574 , 0.13636364],\n",
       "       [0.5625    , 0.0625    , 0.16666667, 0.11455847, 0.15068493,\n",
       "        0.02931596, 0.10059172, 0.09090909],\n",
       "       [0.8125    , 0.0625    , 0.        , 0.        , 0.21917808,\n",
       "        0.06840391, 0.24852071, 0.27272727],\n",
       "       [0.4375    , 0.375     , 0.05833333, 0.02923628, 0.50684932,\n",
       "        0.33550489, 0.44970414, 0.61363636],\n",
       "       [1.        , 0.25      , 0.025     , 0.01193317, 0.73972603,\n",
       "        0.16938111, 0.28402367, 0.34090909],\n",
       "       [0.625     , 1.        , 0.08333333, 0.05548926, 0.43835616,\n",
       "        0.04885993, 0.        , 0.36363636],\n",
       "       [0.8125    , 0.3125    , 0.25833333, 0.18138425, 0.39726027,\n",
       "        0.18566775, 0.21893491, 0.15909091],\n",
       "       [0.625     , 1.        , 0.16666667, 0.10083532, 0.7260274 ,\n",
       "        0.27361564, 0.32544379, 0.36363636],\n",
       "       [0.8125    , 0.25      , 0.25833333, 0.19391408, 0.15068493,\n",
       "        0.        , 0.27810651, 0.04545455],\n",
       "       [0.6875    , 0.625     , 0.21666667, 0.1473747 , 0.45205479,\n",
       "        0.17263844, 0.19526627, 0.15909091],\n",
       "       [0.75      , 0.8125    , 0.18333333, 0.12589499, 0.2739726 ,\n",
       "        0.12052117, 0.15976331, 0.29545455],\n",
       "       [0.5       , 0.5625    , 0.36666667, 0.27147971, 0.60273973,\n",
       "        0.32247557, 0.40236686, 0.34090909],\n",
       "       [0.75      , 0.4375    , 0.43333333, 0.36754177, 0.30136986,\n",
       "        0.14983713, 0.26627219, 0.02272727],\n",
       "       [0.6875    , 0.4375    , 0.50833333, 0.41587112, 0.68493151,\n",
       "        0.36482085, 0.53254438, 0.25      ],\n",
       "       [0.8125    , 0.9375    , 0.4       , 0.30071599, 0.46575342,\n",
       "        0.38110749, 0.30177515, 0.22727273],\n",
       "       [0.875     , 0.9375    , 0.01666667, 0.01372315, 0.38356164,\n",
       "        0.04885993, 0.19526627, 0.43181818],\n",
       "       [0.9375    , 0.375     , 0.05833333, 0.03520286, 0.09589041,\n",
       "        0.16286645, 0.58579882, 0.38636364],\n",
       "       [1.        , 0.625     , 0.20833333, 0.14379475, 0.36986301,\n",
       "        0.11074919, 0.43195266, 0.15909091],\n",
       "       [0.75      , 0.        , 0.25833333, 0.19212411, 0.2739726 ,\n",
       "        0.        , 0.07100592, 0.13636364],\n",
       "       [0.125     , 0.3125    , 0.525     , 0.44928401, 0.38356164,\n",
       "        0.25407166, 0.23076923, 0.18181818],\n",
       "       [0.        , 0.125     , 0.675     , 0.67064439, 1.        ,\n",
       "        0.13355049, 0.27218935, 0.09090909],\n",
       "       [1.        , 0.25      , 0.2       , 0.14081146, 0.17808219,\n",
       "        0.03257329, 0.30769231, 0.18181818],\n",
       "       [0.5       , 0.8125    , 0.06666667, 0.04295943, 0.43835616,\n",
       "        0.08794788, 0.27810651, 0.36363636],\n",
       "       [0.75      , 1.        , 0.65      , 0.59725537, 0.75342466,\n",
       "        0.39739414, 0.4260355 , 0.15909091],\n",
       "       [0.625     , 0.0625    , 0.70833333, 0.71718377, 0.32876712,\n",
       "        0.20846906, 0.24852071, 0.        ],\n",
       "       [0.625     , 0.        , 0.58333333, 0.52147971, 0.2739726 ,\n",
       "        0.27035831, 0.35502959, 0.06818182],\n",
       "       [0.0625    , 0.0625    , 0.4       , 0.31384248, 0.30136986,\n",
       "        0.21498371, 0.21893491, 0.18181818],\n",
       "       [0.5625    , 0.125     , 0.225     , 0.16050119, 0.30136986,\n",
       "        0.09771987, 0.21893491, 0.13636364],\n",
       "       [0.625     , 0.9375    , 0.35      , 0.26610979, 0.32876712,\n",
       "        0.19869707, 0.43195266, 0.06818182],\n",
       "       [0.0625    , 0.25      , 1.        , 1.        , 0.49315068,\n",
       "        0.74592834, 0.28402367, 0.34090909],\n",
       "       [0.4375    , 0.1875    , 0.28333333, 0.18973747, 0.52054795,\n",
       "        0.28990228, 0.36686391, 0.34090909],\n",
       "       [0.375     , 0.4375    , 0.10833333, 0.06563246, 0.5890411 ,\n",
       "        0.14006515, 0.82248521, 0.38636364],\n",
       "       [0.        , 0.9375    , 0.05833333, 0.02505967, 0.38356164,\n",
       "        0.37459283, 0.32544379, 0.84090909],\n",
       "       [0.1875    , 0.125     , 0.35      , 0.22434368, 0.5890411 ,\n",
       "        0.62214984, 0.4260355 , 0.54545455],\n",
       "       [0.3125    , 0.1875    , 0.275     , 0.20883055, 0.05479452,\n",
       "        0.04234528, 0.02366864, 0.        ],\n",
       "       [0.625     , 0.6875    , 0.29166667, 0.22076372, 0.09589041,\n",
       "        0.07491857, 0.        , 0.15909091]])"
      ]
     },
     "execution_count": 19,
     "metadata": {},
     "output_type": "execute_result"
    }
   ],
   "source": [
    "x_train"
   ]
  },
  {
   "cell_type": "markdown",
   "metadata": {
    "_uuid": "2c4637886423e06e40c77bc00a5b88f027572c1f"
   },
   "source": [
    "**And now time to classification!**\n"
   ]
  },
  {
   "cell_type": "code",
   "execution_count": null,
   "metadata": {
    "_uuid": "949e0fbc546a778ac9fb85ad065457009d38e27c",
    "trusted": true
   },
   "outputs": [
    {
     "name": "stdout",
     "output_type": "stream",
     "text": [
      "Logistic Regression Classification Test Accuracy 0.8\n"
     ]
    },
    {
     "data": {
      "image/png": "[encoded data removed]",
      "text/plain": [
       "<Figure size 500x500 with 2 Axes>"
      ]
     },
     "metadata": {},
     "output_type": "display_data"
    }
   ],
   "source": [
    "# Logistic Regression\n",
    "from sklearn.linear_model import LogisticRegression\n",
    "log_reg = LogisticRegression()\n",
    "log_reg.fit(x_train, y_train)\n",
    "print(\"Logistic Regression Classification Test Accuracy {}\".format(log_reg.score(x_test,y_test)))\n",
    "method_names.append(\"Logistic Reg.\")\n",
    "method_scores.append(log_reg.score(x_test,y_test))\n",
    "\n",
    "y_pred = log_reg.predict(x_test)\n",
    "conf_mat = confusion_matrix(y_test,y_pred)\n",
    "f, ax = plt.subplots(figsize=(5,5))\n",
    "sns.heatmap(conf_mat,annot=True,linewidths=0.5,linecolor=\"red\",fmt=\".0f\",ax=ax)\n",
    "plt.xlabel(\"Predicted Values\")\n",
    "plt.ylabel(\"True Values\")\n",
    "plt.show()"
   ]
  },
  {
   "cell_type": "code",
   "execution_count": null,
   "metadata": {
    "_uuid": "6eb8470d8b5b7e5c44dcc63cd786c326f5be83fc",
    "trusted": true
   },
   "outputs": [
    {
     "name": "stdout",
     "output_type": "stream",
     "text": [
      "Score for Number of Neighbors = 5: 0.8\n"
     ]
    },
    {
     "data": {
      "image/png": "[encoded data removed]",
      "text/plain": [
       "<Figure size 500x500 with 2 Axes>"
      ]
     },
     "metadata": {},
     "output_type": "display_data"
    }
   ],
   "source": [
    "# KNN Classification!\n",
    "from sklearn.neighbors import KNeighborsClassifier\n",
    "knn = KNeighborsClassifier(n_neighbors=5)\n",
    "knn.fit(x_train,y_train)\n",
    "print(\"Score for Number of Neighbors = 5: {}\".format(knn.score(x_test,y_test)))\n",
    "method_names.append(\"KNN\")\n",
    "method_scores.append(knn.score(x_test,y_test))\n",
    "\n",
    "y_pred = knn.predict(x_test)\n",
    "conf_mat = confusion_matrix(y_test,y_pred)\n",
    "f, ax = plt.subplots(figsize=(5,5))\n",
    "sns.heatmap(conf_mat,annot=True,linewidths=0.5,linecolor=\"red\",fmt=\".0f\",ax=ax)\n",
    "plt.xlabel(\"Predicted Values\")\n",
    "plt.ylabel(\"True Values\")\n",
    "plt.show()"
   ]
  },
  {
   "cell_type": "code",
   "execution_count": null,
   "metadata": {
    "_uuid": "ea5a44d0281f4f34a77c066f0ed12bac885d35cf",
    "trusted": true
   },
   "outputs": [
    {
     "name": "stdout",
     "output_type": "stream",
     "text": [
      "SVM Classification Score is: 0.8\n"
     ]
    },
    {
     "data": {
      "image/png": "[encoded data removed]",
      "text/plain": [
       "<Figure size 500x500 with 2 Axes>"
      ]
     },
     "metadata": {},
     "output_type": "display_data"
    }
   ],
   "source": [
    "# SVM!\n",
    "from sklearn.svm import SVC\n",
    "svm = SVC(random_state=42)\n",
    "svm.fit(x_train,y_train)\n",
    "print(\"SVM Classification Score is: {}\".format(svm.score(x_test,y_test)))\n",
    "method_names.append(\"SVM\")\n",
    "method_scores.append(svm.score(x_test,y_test))\n",
    "\n",
    "y_pred = svm.predict(x_test)\n",
    "conf_mat = confusion_matrix(y_test,y_pred)\n",
    "f, ax = plt.subplots(figsize=(5,5))\n",
    "sns.heatmap(conf_mat,annot=True,linewidths=0.5,linecolor=\"red\",fmt=\".0f\",ax=ax)\n",
    "plt.xlabel(\"Predicted Values\")\n",
    "plt.ylabel(\"True Values\")\n",
    "plt.show()"
   ]
  },
  {
   "cell_type": "code",
   "execution_count": null,
   "metadata": {
    "_uuid": "19b6321c1b5a18a045dc4e1636e2b368c082769d",
    "trusted": true
   },
   "outputs": [
    {
     "name": "stdout",
     "output_type": "stream",
     "text": [
      "Naive Bayes Classification Score: 0.8\n"
     ]
    },
    {
     "data": {
      "image/png": "[encoded data removed]",
      "text/plain": [
       "<Figure size 500x500 with 2 Axes>"
      ]
     },
     "metadata": {},
     "output_type": "display_data"
    }
   ],
   "source": [
    "# Naive Bayes\n",
    "from sklearn.naive_bayes import GaussianNB\n",
    "naive_bayes = GaussianNB()\n",
    "naive_bayes.fit(x_test,y_test)\n",
    "print(\"Naive Bayes Classification Score: {}\".format(naive_bayes.score(x_test,y_test)))\n",
    "method_names.append(\"Naive Bayes\")\n",
    "method_scores.append(naive_bayes.score(x_test,y_test))\n",
    "\n",
    "y_pred = naive_bayes.predict(x_test)\n",
    "conf_mat = confusion_matrix(y_test,y_pred)\n",
    "f, ax = plt.subplots(figsize=(5,5))\n",
    "sns.heatmap(conf_mat,annot=True,linewidths=0.5,linecolor=\"red\",fmt=\".0f\",ax=ax)\n",
    "plt.xlabel(\"Predicted Values\")\n",
    "plt.ylabel(\"True Values\")\n",
    "plt.show()"
   ]
  },
  {
   "cell_type": "code",
   "execution_count": null,
   "metadata": {
    "_uuid": "51faaac7300e99421c31e7fd635ee977392caa73",
    "trusted": true
   },
   "outputs": [
    {
     "name": "stdout",
     "output_type": "stream",
     "text": [
      "Decision Tree Classification Score:  0.65\n"
     ]
    },
    {
     "data": {
      "image/png": "[encoded data removed]",
      "text/plain": [
       "<Figure size 500x500 with 2 Axes>"
      ]
     },
     "metadata": {},
     "output_type": "display_data"
    }
   ],
   "source": [
    "# Decision Tree\n",
    "from sklearn.tree import DecisionTreeClassifier\n",
    "dec_tree = DecisionTreeClassifier()\n",
    "dec_tree.fit(x_train,y_train)\n",
    "print(\"Decision Tree Classification Score: \",dec_tree.score(x_test,y_test))\n",
    "method_names.append(\"Decision Tree\")\n",
    "method_scores.append(dec_tree.score(x_test,y_test))\n",
    "\n",
    "y_pred = dec_tree.predict(x_test)\n",
    "conf_mat = confusion_matrix(y_test,y_pred)\n",
    "f, ax = plt.subplots(figsize=(5,5))\n",
    "sns.heatmap(conf_mat,annot=True,linewidths=0.5,linecolor=\"red\",fmt=\".0f\",ax=ax)\n",
    "plt.xlabel(\"Predicted Values\")\n",
    "plt.ylabel(\"True Values\")\n",
    "plt.show()"
   ]
  },
  {
   "cell_type": "code",
   "execution_count": null,
   "metadata": {
    "_uuid": "4ad7376894ea8ffa78e4765b778993007a387e70",
    "trusted": true
   },
   "outputs": [
    {
     "name": "stdout",
     "output_type": "stream",
     "text": [
      "Random Forest Classification Score:  0.75\n"
     ]
    },
    {
     "data": {
      "image/png": "[encoded data removed]",
      "text/plain": [
       "<Figure size 500x500 with 2 Axes>"
      ]
     },
     "metadata": {},
     "output_type": "display_data"
    }
   ],
   "source": [
    "# Random Forest\n",
    "from sklearn.ensemble import RandomForestClassifier\n",
    "rand_forest = RandomForestClassifier(n_estimators=100, random_state=42)\n",
    "rand_forest.fit(x_train,y_train)\n",
    "print(\"Random Forest Classification Score: \",rand_forest.score(x_test,y_test))\n",
    "method_names.append(\"Random Forest\")\n",
    "method_scores.append(rand_forest.score(x_test,y_test))\n",
    "\n",
    "y_pred = rand_forest.predict(x_test)\n",
    "conf_mat = confusion_matrix(y_test,y_pred)\n",
    "f, ax = plt.subplots(figsize=(5,5))\n",
    "sns.heatmap(conf_mat,annot=True,linewidths=0.5,linecolor=\"red\",fmt=\".0f\",ax=ax)\n",
    "plt.xlabel(\"Predicted Values\")\n",
    "plt.ylabel(\"True Values\")\n",
    "plt.show()"
   ]
  },
  {
   "cell_type": "markdown",
   "metadata": {
    "_uuid": "89fae4f677c7d6638e95f040fea61aae7e3493f8"
   },
   "source": [
    "**ЗАКЛЮЧЕНИЕ**\n",
    "\n",
    "После завершения всех рассчетов, выведем диаграмму значений методов\n"
   ]
  },
  {
   "cell_type": "code",
   "execution_count": 27,
   "metadata": {
    "_uuid": "af35e768076f7018e68d2d191ffb12e64d7fef06",
    "trusted": true
   },
   "outputs": [
    {
     "data": {
      "text/plain": [
       "Text(0, 0.5, 'Method Score')"
      ]
     },
     "execution_count": 27,
     "metadata": {},
     "output_type": "execute_result"
    },
    {
     "data": {
      "image/png": "[encoded data removed]",
      "text/plain": [
       "<Figure size 1500x1000 with 1 Axes>"
      ]
     },
     "metadata": {},
     "output_type": "display_data"
    }
   ],
   "source": [
    "plt.figure(figsize=(15,10))\n",
    "plt.ylim([0.60,0.90])\n",
    "plt.bar(method_names,method_scores,width=0.5)\n",
    "plt.xlabel('Method Name')\n",
    "plt.ylabel('Method Score')"
   ]
  },
  {
   "cell_type": "markdown",
   "metadata": {
    "_uuid": "c7174b5604b31c95b8d6fc16205719b3cce83e02",
    "trusted": true
   },
   "source": [
    "Как видно из графика. все методы (за исключением \"Random Forest\" и \"Decision Tree\") показали одинаковый результат. Скорее всего данное поведение связано с достаточно малым количеством исследований. Как развитие для более углубленного изучения проблематики рекомендую провести исследование нейросетями."
   ]
  },
  {
   "cell_type": "code",
   "execution_count": null,
   "metadata": {
    "_uuid": "0ded5dd1b51582fdb1027bd24ca3ca6fb74c0b45",
    "trusted": true
   },
   "outputs": [],
   "source": []
  }
 ],
 "metadata": {
  "kaggle": {
   "accelerator": "none",
   "dataSources": [
    {
     "datasetId": 66762,
     "sourceId": 131607,
     "sourceType": "datasetVersion"
    }
   ],
   "dockerImageVersionId": 19667,
   "isGpuEnabled": false,
   "isInternetEnabled": false,
   "language": "python",
   "sourceType": "notebook"
  },
  "kernelspec": {
   "display_name": "Python 3",
   "language": "python",
   "name": "python3"
  },
  "language_info": {
   "codemirror_mode": {
    "name": "ipython",
    "version": 3
   },
   "file_extension": ".py",
   "mimetype": "text/x-python",
   "name": "python",
   "nbconvert_exporter": "python",
   "pygments_lexer": "ipython3",
   "version": "3.12.3"
  }
 },
 "nbformat": 4,
 "nbformat_minor": 4
}
